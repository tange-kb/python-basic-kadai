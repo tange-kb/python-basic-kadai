{
 "cells": [
  {
   "cell_type": "code",
   "execution_count": null,
   "id": "8ea0d2f9-c58c-4fde-87b5-f1567a27a41a",
   "metadata": {},
   "outputs": [],
   "source": [
    "# if文を用いて、以下の条件分岐をするコードを記述してください。値はprint関数で出力してください。\n",
    "\n",
    "# ・変数varが、3の倍数の場合は「Fizz」を出力\n",
    "# ・変数varが、5の倍数の場合は「Buzz」を出力\n",
    "# ・変数varが、3の倍数と5の倍数の両方に該当する場合は「FizzBuzz」を出力\n",
    "# ・上記のどの場合にも該当しない場合は、変数varの値を出力\n",
    "\n",
    "# ただし、変数varは正の整数とします。"
   ]
  },
  {
   "cell_type": "code",
   "execution_count": 4,
   "id": "84b24b85-786e-496b-93ee-99a68f807054",
   "metadata": {},
   "outputs": [
    {
     "name": "stdout",
     "output_type": "stream",
     "text": [
      "81\n"
     ]
    }
   ],
   "source": [
    "#ランダムな整数を利用するために、randomモジュールをインポート\n",
    "import random\n",
    "\n",
    "# 変数varは正の整数である\n",
    "var = random.randint(1, 100)\n",
    "\n",
    "# 変数numの値を出力\n",
    "print(var)"
   ]
  },
  {
   "cell_type": "code",
   "execution_count": 6,
   "id": "c6cd1603-3844-4ae2-a271-5b501bbd6780",
   "metadata": {},
   "outputs": [
    {
     "name": "stdout",
     "output_type": "stream",
     "text": [
      "Fizz\n"
     ]
    }
   ],
   "source": [
    "if var % 3 == 0:\n",
    "    print(\"Fizz\")\n",
    "\n",
    "elif var % 5 == 0:\n",
    "    print(\"Buzz\")\n",
    "\n",
    "elif var % 3 == 0 and var % 5 == 0:\n",
    "    print(\"FizzBuzz\")\n",
    "\n",
    "else:\n",
    "    print(var)"
   ]
  },
  {
   "cell_type": "code",
   "execution_count": null,
   "id": "15540df2-f98d-4f39-9454-05e06b1c1669",
   "metadata": {},
   "outputs": [],
   "source": []
  }
 ],
 "metadata": {
  "kernelspec": {
   "display_name": "Python 3 (ipykernel)",
   "language": "python",
   "name": "python3"
  },
  "language_info": {
   "codemirror_mode": {
    "name": "ipython",
    "version": 3
   },
   "file_extension": ".py",
   "mimetype": "text/x-python",
   "name": "python",
   "nbconvert_exporter": "python",
   "pygments_lexer": "ipython3",
   "version": "3.11.11"
  }
 },
 "nbformat": 4,
 "nbformat_minor": 5
}
