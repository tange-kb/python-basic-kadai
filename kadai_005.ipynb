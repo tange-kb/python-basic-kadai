{
 "cells": [
  {
   "cell_type": "code",
   "execution_count": 7,
   "id": "2bd7dc16-1c8e-40b6-8370-da2829b1e56a",
   "metadata": {},
   "outputs": [
    {
     "name": "stdout",
     "output_type": "stream",
     "text": [
      "75.0 cm²\n"
     ]
    }
   ],
   "source": [
    "Top_bottom = 10\n",
    "Bottom_bottom = 20\n",
    "height = 5\n",
    "\n",
    "S = (Top_bottom + Bottom_bottom)*height / 2\n",
    "print (f\"{S} cm\\u00B2\")"
   ]
  },
  {
   "cell_type": "code",
   "execution_count": null,
   "id": "69125007-357a-48cd-8763-d6c813f29616",
   "metadata": {},
   "outputs": [],
   "source": []
  }
 ],
 "metadata": {
  "kernelspec": {
   "display_name": "Python 3 (ipykernel)",
   "language": "python",
   "name": "python3"
  },
  "language_info": {
   "codemirror_mode": {
    "name": "ipython",
    "version": 3
   },
   "file_extension": ".py",
   "mimetype": "text/x-python",
   "name": "python",
   "nbconvert_exporter": "python",
   "pygments_lexer": "ipython3",
   "version": "3.11.11"
  }
 },
 "nbformat": 4,
 "nbformat_minor": 5
}
